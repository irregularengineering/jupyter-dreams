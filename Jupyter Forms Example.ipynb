{
 "cells": [
  {
   "cell_type": "markdown",
   "metadata": {},
   "source": [
    "# Simple Method"
   ]
  },
  {
   "cell_type": "code",
   "execution_count": null,
   "metadata": {},
   "outputs": [],
   "source": [
    "from pewpyter.jupyter_forms import JupyterForm, JupyterMethod\n",
    "from tests.jupyter_forms import fake_methods as fm\n",
    "jupyter_method = JupyterMethod(fm.fake_annotated)\n",
    "jupyter_form = JupyterForm(jupyter_method)\n",
    "jupyter_form.display_ui()"
   ]
  },
  {
   "cell_type": "markdown",
   "metadata": {},
   "source": [
    "# Less Simple Method"
   ]
  },
  {
   "cell_type": "code",
   "execution_count": null,
   "metadata": {},
   "outputs": [],
   "source": [
    "jupyter_method = JupyterMethod(fm.fake_many_default)\n",
    "jupyter_form = JupyterForm(jupyter_method)\n",
    "jupyter_form.display_ui()"
   ]
  },
  {
   "cell_type": "markdown",
   "metadata": {},
   "source": [
    "# Class Method"
   ]
  },
  {
   "cell_type": "code",
   "execution_count": null,
   "metadata": {},
   "outputs": [],
   "source": [
    "fake_obj = fm.FakeClass()\n",
    "jupyter_method = JupyterMethod(fm.FakeClass.fake_instance_method)\n",
    "jupyter_form = JupyterForm(jupyter_method, obj_name='fake_obj')\n",
    "jupyter_form.display_ui()"
   ]
  }
 ],
 "metadata": {
  "kernelspec": {
   "display_name": "Python 3",
   "language": "python",
   "name": "python3"
  },
  "language_info": {
   "codemirror_mode": {
    "name": "ipython",
    "version": 3
   },
   "file_extension": ".py",
   "mimetype": "text/x-python",
   "name": "python",
   "nbconvert_exporter": "python",
   "pygments_lexer": "ipython3",
   "version": "3.6.5"
  }
 },
 "nbformat": 4,
 "nbformat_minor": 2
}
