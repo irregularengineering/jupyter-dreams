{
 "cells": [
  {
   "cell_type": "markdown",
   "metadata": {},
   "source": [
    "bp_data = pd.read_csv(\"path/to/file.csv\", header=1, delim_whitespace=True)# Co-development with non Python people\n",
    "\n",
    "First off, notice that I've hacked the Notebook UI to style it differently. \n",
    "We can compare the side by side to another notebook. Yay!\n",
    "\n",
    "Secondly, let's explore using the Custom Code Snippits how you can engage non-Python users in an interesting way"
   ]
  },
  {
   "cell_type": "code",
   "execution_count": 2,
   "metadata": {},
   "outputs": [
    {
     "name": "stdout",
     "output_type": "stream",
     "text": [
      "rm: cannot remove '/usr/local/lib/python3.6/site-packages/notebook/static/custom/custom.js': No such file or directory\r\n"
     ]
    }
   ],
   "source": [
    "!rm /usr/local/lib/python3.6/site-packages/notebook/static/custom/custom.js\n",
    "# then restart kernal...\n",
    "!cd ../utils && python custom_js.py"
   ]
  },
  {
   "cell_type": "code",
   "execution_count": null,
   "metadata": {},
   "outputs": [],
   "source": [
    "# remember how i hid that notebook demo?\n",
    "# maybe a user would prefer to have a gentler introduction... \n",
    "\n",
    "# in the cell below, select from the dropdown.\n",
    "\n",
    "should actually be:\n",
    "\n",
    "        'name' : 'Setup Snarf',\n",
    "        'sub-menu' : [\n",
    "            {\n",
    "                \"name\" : \"Setup Snarf\",\n",
    "                \"snippet\" : [\"\",\n",
    "                            \"# remember to run this before the other commands\",\n",
    "                            \"from snarf import NotebookTestDemo\",\n",
    "                            \"snarf = NotebookTestDemo()\",\n",
    "                            \"\"]\n",
    "            },\n",
    "        ],\n"
   ]
  },
  {
   "cell_type": "code",
   "execution_count": 1,
   "metadata": {},
   "outputs": [],
   "source": [
    "# remember to run this before the other commands\"\n",
    "from snarf import NotebookTestDemo\n",
    "snarf = NotebookTestDemo()\n"
   ]
  },
  {
   "cell_type": "code",
   "execution_count": 2,
   "metadata": {},
   "outputs": [
    {
     "data": {
      "text/plain": [
       "'paul@irregular.com'"
      ]
     },
     "execution_count": 2,
     "metadata": {},
     "output_type": "execute_result"
    }
   ],
   "source": [
    "# check Snarfer list for name and get email\n",
    "# just replace the name \"paul karayan\" with the name you want to find!\n",
    "\n",
    "snarf.email_search(\"paul karayan\")"
   ]
  },
  {
   "cell_type": "code",
   "execution_count": null,
   "metadata": {},
   "outputs": [],
   "source": [
    "bp_data = pd.read_csv(\"path/to/file.csv\", header=1, delim_whitespace=True)"
   ]
  }
 ],
 "metadata": {
  "kernelspec": {
   "display_name": "Python 3",
   "language": "python",
   "name": "python3"
  },
  "language_info": {
   "codemirror_mode": {
    "name": "ipython",
    "version": 3
   },
   "file_extension": ".py",
   "mimetype": "text/x-python",
   "name": "python",
   "nbconvert_exporter": "python",
   "pygments_lexer": "ipython3",
   "version": "3.6.5"
  }
 },
 "nbformat": 4,
 "nbformat_minor": 2
}
