{
 "cells": [
  {
   "cell_type": "markdown",
   "metadata": {},
   "source": [
    "qgrid - An interactive grid for viewing and editing pandas DataFrames\n",
    "=======================================================\n",
    "Qgrid is an Jupyter notebook widget which uses a javascript library called SlickGrid to render pandas DataFrames within a Jupyter notebook. It was developed for use in [Quantopian's hosted research environment]( https://www.quantopian.com/research?utm_source=github&utm_medium=web&utm_campaign=qgrid-nbviewer).\n",
    "\n",
    "The purpose of this notebook is to give an overview of what qgrid is capable of. Execute the cells below to generate some qgrids using a diverse set of DataFrames."
   ]
  },
  {
   "cell_type": "markdown",
   "metadata": {},
   "source": [
    "## Overview\n",
    "* [SlickGrid](https://github.com/mleibman/SlickGrid) is a javascript grid which allows users to scroll, sort, \n",
    "and filter hundreds of thousands of rows with extreme responsiveness.  \n",
    "* [Pandas](https://github.com/pydata/pandas) is a powerful data analysis / manipulation library for Python, and DataFrames are the primary way of storing and manipulating two-dimensional data in pandas.\n",
    "\n",
    "[Qgrid](https://github.com/quantopian/qgrid) renders pandas DataFrames as SlickGrids, which enables users to explore the entire contents of a DataFrame using intuitive sorting and filtering controls.  It's built on the ipywidget framework and is designed to be used in Jupyter notebook, Jupyterhub, or Jupyterlab"
   ]
  },
  {
   "cell_type": "markdown",
   "metadata": {},
   "source": [
    "## What's new in 1.0.3\n",
    "* Added the ability to listen for events on all QgridWidget instances (using `qgrid.on`) as well as on individual instances (using `QgridWidget.on`).\n",
    "* **Breaking API Change:** Previously the recommended (but not officially documented) way of attaching event handlers to a QgridWidget instance was to listen for changes to the ``_df`` attribute using the ``observe`` method (i.e.``qgrid_widget.observe(handle_df_changed, names=['_df'])``). This method will no longer work for most events (scrolling, sorting, filtering, etc) so the new ``QgridWidget.on`` method should be used instead."
   ]
  },
  {
   "cell_type": "markdown",
   "metadata": {},
   "source": [
    "## API & Usage\n",
    "API documentation is hosted on [readthedocs](http://qgrid.readthedocs.io/en/widget-guidelines/). \n",
    "\n",
    "The API documentation can also be accessed via the \"?\" operator in IPython.  To use the \"?\" operator, type the name of the function followed by \"?\" to see the documentation for that function, like this:\n",
    "```\n",
    "qgrid.show_grid?\n",
    "qgrid.set_defaults?\n",
    "qgrid.set_grid_options?\n",
    "qgrid.enable?\n",
    "qgrid.disable?\n",
    "\n",
    "```"
   ]
  },
  {
   "cell_type": "markdown",
   "metadata": {},
   "source": [
    "## Example 1 - Render a DataFrame with many different types of columns"
   ]
  },
  {
   "cell_type": "code",
   "execution_count": 1,
   "metadata": {},
   "outputs": [
    {
     "data": {
      "application/vnd.jupyter.widget-view+json": {
       "model_id": "00c7d9abe72b46f49f7f0c7307ee6355",
       "version_major": 2,
       "version_minor": 0
      },
      "text/html": [
       "<p>Failed to display Jupyter Widget of type <code>QgridWidget</code>.</p>\n",
       "<p>\n",
       "  If you're reading this message in the Jupyter Notebook or JupyterLab Notebook, it may mean\n",
       "  that the widgets JavaScript is still loading. If this message persists, it\n",
       "  likely means that the widgets JavaScript library is either not installed or\n",
       "  not enabled. See the <a href=\"https://ipywidgets.readthedocs.io/en/stable/user_install.html\">Jupyter\n",
       "  Widgets Documentation</a> for setup instructions.\n",
       "</p>\n",
       "<p>\n",
       "  If you're reading this message in another frontend (for example, a static\n",
       "  rendering on GitHub or <a href=\"https://nbviewer.jupyter.org/\">NBViewer</a>),\n",
       "  it may mean that your frontend doesn't currently support widgets.\n",
       "</p>\n"
      ],
      "text/plain": [
       "QgridWidget(grid_options={'fullWidthRows': True, 'syncColumnCellResize': True, 'forceFitColumns': True, 'defaultColumnWidth': 150, 'rowHeight': 28, 'enableColumnReorder': False, 'enableTextSelectionOnCells': True, 'editable': True, 'autoEdit': False, 'explicitInitialization': True, 'maxVisibleRows': 15, 'minVisibleRows': 8, 'sortable': True, 'filterable': True, 'highlightSelectedCell': False, 'highlightSelectedRow': True}, id='a4d5cf2a-ef1e-4143-bc9a-5ccd10a9a3c9', precision=5, show_toolbar=True)"
      ]
     },
     "metadata": {},
     "output_type": "display_data"
    }
   ],
   "source": [
    "import numpy as np\n",
    "import pandas as pd\n",
    "import qgrid\n",
    "randn = np.random.randn\n",
    "df_types = pd.DataFrame({\n",
    "    'A' : pd.Series(['2013-01-01', '2013-01-02', '2013-01-03', '2013-01-04',\n",
    "               '2013-01-05', '2013-01-06', '2013-01-07', '2013-01-08', '2013-01-09'],index=list(range(9)),dtype='datetime64[ns]'),\n",
    "    'B' : pd.Series(randn(9),index=list(range(9)),dtype='float32'),\n",
    "    'C' : pd.Categorical([\"washington\", \"adams\", \"washington\", \"madison\", \"lincoln\",\"jefferson\", \"hamilton\", \"roosevelt\", \"kennedy\"]),\n",
    "    'D' : [\"foo\", \"bar\", \"buzz\", \"bippity\",\"boppity\", \"foo\", \"foo\", \"bar\", \"zoo\"] })\n",
    "df_types['E'] = df_types['D'] == 'foo'\n",
    "qgrid_widget = qgrid.QgridWidget(df=df_types, show_toolbar=True)\n",
    "qgrid_widget"
   ]
  },
  {
   "cell_type": "markdown",
   "metadata": {},
   "source": [
    "If you make any sorting/filtering changes, or edit the grid by double clicking, you can retrieve a copy of your DataFrame which reflects these changes by calling `get_changed_df` on the `QgridWidget` instance returned by `show_grid`."
   ]
  },
  {
   "cell_type": "code",
   "execution_count": 2,
   "metadata": {
    "scrolled": true
   },
   "outputs": [
    {
     "data": {
      "text/html": [
       "<div>\n",
       "<style scoped>\n",
       "    .dataframe tbody tr th:only-of-type {\n",
       "        vertical-align: middle;\n",
       "    }\n",
       "\n",
       "    .dataframe tbody tr th {\n",
       "        vertical-align: top;\n",
       "    }\n",
       "\n",
       "    .dataframe thead th {\n",
       "        text-align: right;\n",
       "    }\n",
       "</style>\n",
       "<table border=\"1\" class=\"dataframe\">\n",
       "  <thead>\n",
       "    <tr style=\"text-align: right;\">\n",
       "      <th></th>\n",
       "      <th>A</th>\n",
       "      <th>B</th>\n",
       "      <th>C</th>\n",
       "      <th>D</th>\n",
       "      <th>E</th>\n",
       "    </tr>\n",
       "  </thead>\n",
       "  <tbody>\n",
       "    <tr>\n",
       "      <th>0</th>\n",
       "      <td>2013-01-01</td>\n",
       "      <td>0.632008</td>\n",
       "      <td>washington</td>\n",
       "      <td>foo</td>\n",
       "      <td>True</td>\n",
       "    </tr>\n",
       "    <tr>\n",
       "      <th>1</th>\n",
       "      <td>2013-01-02</td>\n",
       "      <td>-1.159340</td>\n",
       "      <td>adams</td>\n",
       "      <td>bar</td>\n",
       "      <td>False</td>\n",
       "    </tr>\n",
       "    <tr>\n",
       "      <th>2</th>\n",
       "      <td>2013-01-03</td>\n",
       "      <td>-0.941001</td>\n",
       "      <td>washington</td>\n",
       "      <td>buzz</td>\n",
       "      <td>False</td>\n",
       "    </tr>\n",
       "    <tr>\n",
       "      <th>3</th>\n",
       "      <td>2013-01-04</td>\n",
       "      <td>-0.395081</td>\n",
       "      <td>madison</td>\n",
       "      <td>bippity</td>\n",
       "      <td>False</td>\n",
       "    </tr>\n",
       "    <tr>\n",
       "      <th>4</th>\n",
       "      <td>2013-01-05</td>\n",
       "      <td>0.406320</td>\n",
       "      <td>lincoln</td>\n",
       "      <td>boppity</td>\n",
       "      <td>False</td>\n",
       "    </tr>\n",
       "    <tr>\n",
       "      <th>5</th>\n",
       "      <td>2013-01-06</td>\n",
       "      <td>-1.949846</td>\n",
       "      <td>jefferson</td>\n",
       "      <td>foo</td>\n",
       "      <td>True</td>\n",
       "    </tr>\n",
       "    <tr>\n",
       "      <th>6</th>\n",
       "      <td>2013-01-07</td>\n",
       "      <td>-0.254368</td>\n",
       "      <td>hamilton</td>\n",
       "      <td>foo</td>\n",
       "      <td>True</td>\n",
       "    </tr>\n",
       "    <tr>\n",
       "      <th>7</th>\n",
       "      <td>2013-01-08</td>\n",
       "      <td>0.492426</td>\n",
       "      <td>roosevelt</td>\n",
       "      <td>bar</td>\n",
       "      <td>False</td>\n",
       "    </tr>\n",
       "    <tr>\n",
       "      <th>8</th>\n",
       "      <td>2013-01-09</td>\n",
       "      <td>-0.922692</td>\n",
       "      <td>kennedy</td>\n",
       "      <td>zoo</td>\n",
       "      <td>False</td>\n",
       "    </tr>\n",
       "  </tbody>\n",
       "</table>\n",
       "</div>"
      ],
      "text/plain": [
       "           A         B           C        D      E\n",
       "0 2013-01-01  0.632008  washington      foo   True\n",
       "1 2013-01-02 -1.159340       adams      bar  False\n",
       "2 2013-01-03 -0.941001  washington     buzz  False\n",
       "3 2013-01-04 -0.395081     madison  bippity  False\n",
       "4 2013-01-05  0.406320     lincoln  boppity  False\n",
       "5 2013-01-06 -1.949846   jefferson      foo   True\n",
       "6 2013-01-07 -0.254368    hamilton      foo   True\n",
       "7 2013-01-08  0.492426   roosevelt      bar  False\n",
       "8 2013-01-09 -0.922692     kennedy      zoo  False"
      ]
     },
     "execution_count": 2,
     "metadata": {},
     "output_type": "execute_result"
    }
   ],
   "source": [
    "qgrid_widget.get_changed_df()"
   ]
  },
  {
   "cell_type": "markdown",
   "metadata": {},
   "source": [
    "## Example 2 - Render a DataFrame with 1 million rows\n",
    "*Note: The reason for the redundant \"import\" statements in the next cell (and many subsequent cells) is because it allows us to run the cells in any order.*"
   ]
  },
  {
   "cell_type": "code",
   "execution_count": 3,
   "metadata": {},
   "outputs": [
    {
     "data": {
      "application/vnd.jupyter.widget-view+json": {
       "model_id": "0cd3b581def64067a99f5b75b6a8acf2",
       "version_major": 2,
       "version_minor": 0
      },
      "text/html": [
       "<p>Failed to display Jupyter Widget of type <code>QgridWidget</code>.</p>\n",
       "<p>\n",
       "  If you're reading this message in the Jupyter Notebook or JupyterLab Notebook, it may mean\n",
       "  that the widgets JavaScript is still loading. If this message persists, it\n",
       "  likely means that the widgets JavaScript library is either not installed or\n",
       "  not enabled. See the <a href=\"https://ipywidgets.readthedocs.io/en/stable/user_install.html\">Jupyter\n",
       "  Widgets Documentation</a> for setup instructions.\n",
       "</p>\n",
       "<p>\n",
       "  If you're reading this message in another frontend (for example, a static\n",
       "  rendering on GitHub or <a href=\"https://nbviewer.jupyter.org/\">NBViewer</a>),\n",
       "  it may mean that your frontend doesn't currently support widgets.\n",
       "</p>\n"
      ],
      "text/plain": [
       "QgridWidget(grid_options={'fullWidthRows': True, 'syncColumnCellResize': True, 'forceFitColumns': False, 'defaultColumnWidth': 200, 'rowHeight': 28, 'enableColumnReorder': False, 'enableTextSelectionOnCells': True, 'editable': True, 'autoEdit': False, 'explicitInitialization': True, 'maxVisibleRows': 10, 'minVisibleRows': 8, 'sortable': True, 'filterable': True, 'highlightSelectedCell': False, 'highlightSelectedRow': True}, id='3f6a819f-3da7-4851-a77e-0da886da1a58', precision=5, show_toolbar=True)"
      ]
     },
     "metadata": {},
     "output_type": "display_data"
    }
   ],
   "source": [
    "import pandas as pd\n",
    "import numpy as np\n",
    "import qgrid\n",
    "\n",
    "# set the default max number of rows to 10 so the larger DataFrame we render don't take up to much space \n",
    "qgrid.set_grid_option('maxVisibleRows', 10)\n",
    "\n",
    "df_scale = pd.DataFrame(np.random.randn(1000000, 4), columns=list('ABCD'))\n",
    "# duplicate column B as a string column, to test scalability for text column filters\n",
    "df_scale['B (as str)'] = df_scale['B'].map(lambda x: str(x))\n",
    "q_scale = qgrid.show_grid(df_scale, show_toolbar=True, grid_options={'forceFitColumns': False, 'defaultColumnWidth': 200})\n",
    "q_scale"
   ]
  },
  {
   "cell_type": "code",
   "execution_count": 4,
   "metadata": {
    "scrolled": true
   },
   "outputs": [
    {
     "data": {
      "text/html": [
       "<div>\n",
       "<style scoped>\n",
       "    .dataframe tbody tr th:only-of-type {\n",
       "        vertical-align: middle;\n",
       "    }\n",
       "\n",
       "    .dataframe tbody tr th {\n",
       "        vertical-align: top;\n",
       "    }\n",
       "\n",
       "    .dataframe thead th {\n",
       "        text-align: right;\n",
       "    }\n",
       "</style>\n",
       "<table border=\"1\" class=\"dataframe\">\n",
       "  <thead>\n",
       "    <tr style=\"text-align: right;\">\n",
       "      <th></th>\n",
       "      <th>A</th>\n",
       "      <th>B</th>\n",
       "      <th>C</th>\n",
       "      <th>D</th>\n",
       "      <th>B (as str)</th>\n",
       "    </tr>\n",
       "  </thead>\n",
       "  <tbody>\n",
       "    <tr>\n",
       "      <th>0</th>\n",
       "      <td>-0.022598</td>\n",
       "      <td>0.646851</td>\n",
       "      <td>-0.315470</td>\n",
       "      <td>0.756979</td>\n",
       "      <td>0.6468511683068416</td>\n",
       "    </tr>\n",
       "    <tr>\n",
       "      <th>1</th>\n",
       "      <td>1.578137</td>\n",
       "      <td>-0.796227</td>\n",
       "      <td>0.381622</td>\n",
       "      <td>-0.781703</td>\n",
       "      <td>-0.7962270189850903</td>\n",
       "    </tr>\n",
       "    <tr>\n",
       "      <th>2</th>\n",
       "      <td>1.085122</td>\n",
       "      <td>1.364377</td>\n",
       "      <td>-0.328479</td>\n",
       "      <td>-0.202609</td>\n",
       "      <td>1.3643766698472795</td>\n",
       "    </tr>\n",
       "    <tr>\n",
       "      <th>3</th>\n",
       "      <td>-0.315499</td>\n",
       "      <td>0.904426</td>\n",
       "      <td>-0.745649</td>\n",
       "      <td>0.122556</td>\n",
       "      <td>0.9044260054769852</td>\n",
       "    </tr>\n",
       "    <tr>\n",
       "      <th>4</th>\n",
       "      <td>0.489007</td>\n",
       "      <td>1.480414</td>\n",
       "      <td>-0.399344</td>\n",
       "      <td>0.791736</td>\n",
       "      <td>1.4804139829592091</td>\n",
       "    </tr>\n",
       "    <tr>\n",
       "      <th>5</th>\n",
       "      <td>-1.804991</td>\n",
       "      <td>1.405854</td>\n",
       "      <td>0.327702</td>\n",
       "      <td>-0.829124</td>\n",
       "      <td>1.4058541593216156</td>\n",
       "    </tr>\n",
       "    <tr>\n",
       "      <th>6</th>\n",
       "      <td>0.719390</td>\n",
       "      <td>-1.819837</td>\n",
       "      <td>0.473553</td>\n",
       "      <td>1.125923</td>\n",
       "      <td>-1.8198373708458047</td>\n",
       "    </tr>\n",
       "    <tr>\n",
       "      <th>7</th>\n",
       "      <td>-2.964972</td>\n",
       "      <td>0.818498</td>\n",
       "      <td>-1.589457</td>\n",
       "      <td>-0.196770</td>\n",
       "      <td>0.8184983803835738</td>\n",
       "    </tr>\n",
       "    <tr>\n",
       "      <th>8</th>\n",
       "      <td>-0.882162</td>\n",
       "      <td>-0.699471</td>\n",
       "      <td>-2.090860</td>\n",
       "      <td>0.755076</td>\n",
       "      <td>-0.6994713739472752</td>\n",
       "    </tr>\n",
       "    <tr>\n",
       "      <th>9</th>\n",
       "      <td>-0.531267</td>\n",
       "      <td>-0.369908</td>\n",
       "      <td>0.016454</td>\n",
       "      <td>0.430180</td>\n",
       "      <td>-0.36990767056999657</td>\n",
       "    </tr>\n",
       "    <tr>\n",
       "      <th>10</th>\n",
       "      <td>-0.551183</td>\n",
       "      <td>0.407761</td>\n",
       "      <td>-0.130792</td>\n",
       "      <td>-0.603202</td>\n",
       "      <td>0.40776096527860384</td>\n",
       "    </tr>\n",
       "    <tr>\n",
       "      <th>11</th>\n",
       "      <td>-0.566286</td>\n",
       "      <td>0.045572</td>\n",
       "      <td>1.280749</td>\n",
       "      <td>0.582487</td>\n",
       "      <td>0.04557220659216379</td>\n",
       "    </tr>\n",
       "    <tr>\n",
       "      <th>12</th>\n",
       "      <td>0.557646</td>\n",
       "      <td>-0.218922</td>\n",
       "      <td>1.286246</td>\n",
       "      <td>1.496505</td>\n",
       "      <td>-0.21892234796985047</td>\n",
       "    </tr>\n",
       "    <tr>\n",
       "      <th>13</th>\n",
       "      <td>0.331674</td>\n",
       "      <td>-0.877837</td>\n",
       "      <td>0.124965</td>\n",
       "      <td>-1.057933</td>\n",
       "      <td>-0.8778374467860897</td>\n",
       "    </tr>\n",
       "    <tr>\n",
       "      <th>14</th>\n",
       "      <td>-0.242315</td>\n",
       "      <td>0.060830</td>\n",
       "      <td>1.824598</td>\n",
       "      <td>0.378893</td>\n",
       "      <td>0.06083005268731414</td>\n",
       "    </tr>\n",
       "    <tr>\n",
       "      <th>15</th>\n",
       "      <td>-0.646573</td>\n",
       "      <td>-0.415450</td>\n",
       "      <td>-1.692971</td>\n",
       "      <td>-0.318178</td>\n",
       "      <td>-0.41545028892400365</td>\n",
       "    </tr>\n",
       "    <tr>\n",
       "      <th>16</th>\n",
       "      <td>-0.514729</td>\n",
       "      <td>-1.442203</td>\n",
       "      <td>-1.296407</td>\n",
       "      <td>-1.581514</td>\n",
       "      <td>-1.4422029840208441</td>\n",
       "    </tr>\n",
       "    <tr>\n",
       "      <th>17</th>\n",
       "      <td>-0.585768</td>\n",
       "      <td>0.514027</td>\n",
       "      <td>-1.397351</td>\n",
       "      <td>-0.003182</td>\n",
       "      <td>0.5140272092729243</td>\n",
       "    </tr>\n",
       "    <tr>\n",
       "      <th>18</th>\n",
       "      <td>0.723272</td>\n",
       "      <td>-0.513468</td>\n",
       "      <td>0.541079</td>\n",
       "      <td>-0.137046</td>\n",
       "      <td>-0.5134684827641041</td>\n",
       "    </tr>\n",
       "    <tr>\n",
       "      <th>19</th>\n",
       "      <td>2.637495</td>\n",
       "      <td>-0.846907</td>\n",
       "      <td>2.393073</td>\n",
       "      <td>0.955457</td>\n",
       "      <td>-0.8469068504596399</td>\n",
       "    </tr>\n",
       "    <tr>\n",
       "      <th>20</th>\n",
       "      <td>0.166189</td>\n",
       "      <td>-1.185081</td>\n",
       "      <td>1.282045</td>\n",
       "      <td>1.654204</td>\n",
       "      <td>-1.185080718177372</td>\n",
       "    </tr>\n",
       "    <tr>\n",
       "      <th>21</th>\n",
       "      <td>-0.297169</td>\n",
       "      <td>0.416546</td>\n",
       "      <td>0.397860</td>\n",
       "      <td>-2.182721</td>\n",
       "      <td>0.4165462367801613</td>\n",
       "    </tr>\n",
       "    <tr>\n",
       "      <th>22</th>\n",
       "      <td>-0.020360</td>\n",
       "      <td>0.737743</td>\n",
       "      <td>1.965927</td>\n",
       "      <td>-0.338573</td>\n",
       "      <td>0.7377425910303744</td>\n",
       "    </tr>\n",
       "    <tr>\n",
       "      <th>23</th>\n",
       "      <td>0.751784</td>\n",
       "      <td>-0.900164</td>\n",
       "      <td>0.281151</td>\n",
       "      <td>-0.442655</td>\n",
       "      <td>-0.9001636853183134</td>\n",
       "    </tr>\n",
       "    <tr>\n",
       "      <th>24</th>\n",
       "      <td>-0.873261</td>\n",
       "      <td>-0.578318</td>\n",
       "      <td>-0.819339</td>\n",
       "      <td>-0.737263</td>\n",
       "      <td>-0.5783178141371931</td>\n",
       "    </tr>\n",
       "    <tr>\n",
       "      <th>25</th>\n",
       "      <td>1.064900</td>\n",
       "      <td>-0.747839</td>\n",
       "      <td>0.133001</td>\n",
       "      <td>1.370450</td>\n",
       "      <td>-0.7478388853469311</td>\n",
       "    </tr>\n",
       "    <tr>\n",
       "      <th>26</th>\n",
       "      <td>0.723467</td>\n",
       "      <td>0.142119</td>\n",
       "      <td>0.651336</td>\n",
       "      <td>0.798656</td>\n",
       "      <td>0.14211937616047218</td>\n",
       "    </tr>\n",
       "    <tr>\n",
       "      <th>27</th>\n",
       "      <td>-2.028000</td>\n",
       "      <td>-0.311684</td>\n",
       "      <td>1.612560</td>\n",
       "      <td>-1.920692</td>\n",
       "      <td>-0.31168364971056306</td>\n",
       "    </tr>\n",
       "    <tr>\n",
       "      <th>28</th>\n",
       "      <td>1.112880</td>\n",
       "      <td>0.626988</td>\n",
       "      <td>-0.010630</td>\n",
       "      <td>-0.910079</td>\n",
       "      <td>0.6269879010313179</td>\n",
       "    </tr>\n",
       "    <tr>\n",
       "      <th>29</th>\n",
       "      <td>-0.858599</td>\n",
       "      <td>-0.567698</td>\n",
       "      <td>-1.337043</td>\n",
       "      <td>1.280145</td>\n",
       "      <td>-0.5676975025821687</td>\n",
       "    </tr>\n",
       "    <tr>\n",
       "      <th>...</th>\n",
       "      <td>...</td>\n",
       "      <td>...</td>\n",
       "      <td>...</td>\n",
       "      <td>...</td>\n",
       "      <td>...</td>\n",
       "    </tr>\n",
       "    <tr>\n",
       "      <th>999970</th>\n",
       "      <td>-1.457646</td>\n",
       "      <td>0.192926</td>\n",
       "      <td>-1.250098</td>\n",
       "      <td>1.511794</td>\n",
       "      <td>0.19292580356904052</td>\n",
       "    </tr>\n",
       "    <tr>\n",
       "      <th>999971</th>\n",
       "      <td>-0.585404</td>\n",
       "      <td>0.724723</td>\n",
       "      <td>1.402451</td>\n",
       "      <td>0.874530</td>\n",
       "      <td>0.724722804401467</td>\n",
       "    </tr>\n",
       "    <tr>\n",
       "      <th>999972</th>\n",
       "      <td>1.632520</td>\n",
       "      <td>-0.364826</td>\n",
       "      <td>-2.025486</td>\n",
       "      <td>1.050771</td>\n",
       "      <td>-0.3648260503009987</td>\n",
       "    </tr>\n",
       "    <tr>\n",
       "      <th>999973</th>\n",
       "      <td>-1.679376</td>\n",
       "      <td>-0.936166</td>\n",
       "      <td>-0.528316</td>\n",
       "      <td>0.680004</td>\n",
       "      <td>-0.9361660440263306</td>\n",
       "    </tr>\n",
       "    <tr>\n",
       "      <th>999974</th>\n",
       "      <td>-2.162210</td>\n",
       "      <td>-0.893318</td>\n",
       "      <td>-0.293688</td>\n",
       "      <td>1.215968</td>\n",
       "      <td>-0.893318074836994</td>\n",
       "    </tr>\n",
       "    <tr>\n",
       "      <th>999975</th>\n",
       "      <td>0.495206</td>\n",
       "      <td>-2.603158</td>\n",
       "      <td>-0.526504</td>\n",
       "      <td>2.440141</td>\n",
       "      <td>-2.603158105805576</td>\n",
       "    </tr>\n",
       "    <tr>\n",
       "      <th>999976</th>\n",
       "      <td>-0.712050</td>\n",
       "      <td>0.042788</td>\n",
       "      <td>-0.586106</td>\n",
       "      <td>0.501691</td>\n",
       "      <td>0.04278773545119708</td>\n",
       "    </tr>\n",
       "    <tr>\n",
       "      <th>999977</th>\n",
       "      <td>-1.450769</td>\n",
       "      <td>-0.504873</td>\n",
       "      <td>1.492687</td>\n",
       "      <td>-1.000447</td>\n",
       "      <td>-0.5048725523318583</td>\n",
       "    </tr>\n",
       "    <tr>\n",
       "      <th>999978</th>\n",
       "      <td>1.435701</td>\n",
       "      <td>0.588921</td>\n",
       "      <td>0.499484</td>\n",
       "      <td>1.068952</td>\n",
       "      <td>0.5889208293682462</td>\n",
       "    </tr>\n",
       "    <tr>\n",
       "      <th>999979</th>\n",
       "      <td>-0.370500</td>\n",
       "      <td>-0.876371</td>\n",
       "      <td>0.095679</td>\n",
       "      <td>1.426775</td>\n",
       "      <td>-0.876370520979019</td>\n",
       "    </tr>\n",
       "    <tr>\n",
       "      <th>999980</th>\n",
       "      <td>-1.860362</td>\n",
       "      <td>-0.188352</td>\n",
       "      <td>1.417636</td>\n",
       "      <td>0.112812</td>\n",
       "      <td>-0.18835163116942605</td>\n",
       "    </tr>\n",
       "    <tr>\n",
       "      <th>999981</th>\n",
       "      <td>0.159776</td>\n",
       "      <td>0.643148</td>\n",
       "      <td>-1.144058</td>\n",
       "      <td>0.588882</td>\n",
       "      <td>0.6431479530013978</td>\n",
       "    </tr>\n",
       "    <tr>\n",
       "      <th>999982</th>\n",
       "      <td>-0.771294</td>\n",
       "      <td>0.035328</td>\n",
       "      <td>0.056139</td>\n",
       "      <td>1.400189</td>\n",
       "      <td>0.03532781079998818</td>\n",
       "    </tr>\n",
       "    <tr>\n",
       "      <th>999983</th>\n",
       "      <td>0.075331</td>\n",
       "      <td>0.757517</td>\n",
       "      <td>1.336875</td>\n",
       "      <td>1.215366</td>\n",
       "      <td>0.7575173146019598</td>\n",
       "    </tr>\n",
       "    <tr>\n",
       "      <th>999984</th>\n",
       "      <td>-1.860898</td>\n",
       "      <td>1.121065</td>\n",
       "      <td>-0.722139</td>\n",
       "      <td>-0.347471</td>\n",
       "      <td>1.1210645853316952</td>\n",
       "    </tr>\n",
       "    <tr>\n",
       "      <th>999985</th>\n",
       "      <td>0.105796</td>\n",
       "      <td>-0.840798</td>\n",
       "      <td>0.217460</td>\n",
       "      <td>-0.371466</td>\n",
       "      <td>-0.8407981155047471</td>\n",
       "    </tr>\n",
       "    <tr>\n",
       "      <th>999986</th>\n",
       "      <td>2.238956</td>\n",
       "      <td>0.598431</td>\n",
       "      <td>-0.979607</td>\n",
       "      <td>-0.454246</td>\n",
       "      <td>0.5984307588647593</td>\n",
       "    </tr>\n",
       "    <tr>\n",
       "      <th>999987</th>\n",
       "      <td>-0.031199</td>\n",
       "      <td>-0.981430</td>\n",
       "      <td>0.449795</td>\n",
       "      <td>0.797046</td>\n",
       "      <td>-0.9814303756805347</td>\n",
       "    </tr>\n",
       "    <tr>\n",
       "      <th>999988</th>\n",
       "      <td>-0.333485</td>\n",
       "      <td>-0.596820</td>\n",
       "      <td>-0.658698</td>\n",
       "      <td>1.594328</td>\n",
       "      <td>-0.5968201886427429</td>\n",
       "    </tr>\n",
       "    <tr>\n",
       "      <th>999989</th>\n",
       "      <td>2.006962</td>\n",
       "      <td>-0.567322</td>\n",
       "      <td>-0.772966</td>\n",
       "      <td>-1.559192</td>\n",
       "      <td>-0.5673221137737645</td>\n",
       "    </tr>\n",
       "    <tr>\n",
       "      <th>999990</th>\n",
       "      <td>-0.687831</td>\n",
       "      <td>0.235996</td>\n",
       "      <td>-0.238004</td>\n",
       "      <td>0.552213</td>\n",
       "      <td>0.23599640206374659</td>\n",
       "    </tr>\n",
       "    <tr>\n",
       "      <th>999991</th>\n",
       "      <td>-1.700605</td>\n",
       "      <td>1.960793</td>\n",
       "      <td>-0.314214</td>\n",
       "      <td>0.952570</td>\n",
       "      <td>1.9607928637004437</td>\n",
       "    </tr>\n",
       "    <tr>\n",
       "      <th>999992</th>\n",
       "      <td>-0.700334</td>\n",
       "      <td>0.365314</td>\n",
       "      <td>-0.830024</td>\n",
       "      <td>0.064118</td>\n",
       "      <td>0.3653140369479466</td>\n",
       "    </tr>\n",
       "    <tr>\n",
       "      <th>999993</th>\n",
       "      <td>-0.174309</td>\n",
       "      <td>-1.299461</td>\n",
       "      <td>-0.581559</td>\n",
       "      <td>-1.366201</td>\n",
       "      <td>-1.2994612736445736</td>\n",
       "    </tr>\n",
       "    <tr>\n",
       "      <th>999994</th>\n",
       "      <td>-0.434830</td>\n",
       "      <td>-1.103999</td>\n",
       "      <td>0.171219</td>\n",
       "      <td>2.251852</td>\n",
       "      <td>-1.1039986293272555</td>\n",
       "    </tr>\n",
       "    <tr>\n",
       "      <th>999995</th>\n",
       "      <td>-0.552355</td>\n",
       "      <td>-2.143354</td>\n",
       "      <td>-0.520109</td>\n",
       "      <td>-0.391523</td>\n",
       "      <td>-2.1433537364852224</td>\n",
       "    </tr>\n",
       "    <tr>\n",
       "      <th>999996</th>\n",
       "      <td>-0.256147</td>\n",
       "      <td>1.058946</td>\n",
       "      <td>2.028805</td>\n",
       "      <td>-0.034571</td>\n",
       "      <td>1.0589457878193425</td>\n",
       "    </tr>\n",
       "    <tr>\n",
       "      <th>999997</th>\n",
       "      <td>0.819508</td>\n",
       "      <td>-0.020453</td>\n",
       "      <td>1.370714</td>\n",
       "      <td>0.750098</td>\n",
       "      <td>-0.020452559113283</td>\n",
       "    </tr>\n",
       "    <tr>\n",
       "      <th>999998</th>\n",
       "      <td>-0.863895</td>\n",
       "      <td>-0.553943</td>\n",
       "      <td>2.090309</td>\n",
       "      <td>0.916981</td>\n",
       "      <td>-0.5539428215983326</td>\n",
       "    </tr>\n",
       "    <tr>\n",
       "      <th>999999</th>\n",
       "      <td>1.233610</td>\n",
       "      <td>-0.231400</td>\n",
       "      <td>-0.296199</td>\n",
       "      <td>-0.831259</td>\n",
       "      <td>-0.23140002363497464</td>\n",
       "    </tr>\n",
       "  </tbody>\n",
       "</table>\n",
       "<p>1000000 rows × 5 columns</p>\n",
       "</div>"
      ],
      "text/plain": [
       "               A         B         C         D            B (as str)\n",
       "0      -0.022598  0.646851 -0.315470  0.756979    0.6468511683068416\n",
       "1       1.578137 -0.796227  0.381622 -0.781703   -0.7962270189850903\n",
       "2       1.085122  1.364377 -0.328479 -0.202609    1.3643766698472795\n",
       "3      -0.315499  0.904426 -0.745649  0.122556    0.9044260054769852\n",
       "4       0.489007  1.480414 -0.399344  0.791736    1.4804139829592091\n",
       "5      -1.804991  1.405854  0.327702 -0.829124    1.4058541593216156\n",
       "6       0.719390 -1.819837  0.473553  1.125923   -1.8198373708458047\n",
       "7      -2.964972  0.818498 -1.589457 -0.196770    0.8184983803835738\n",
       "8      -0.882162 -0.699471 -2.090860  0.755076   -0.6994713739472752\n",
       "9      -0.531267 -0.369908  0.016454  0.430180  -0.36990767056999657\n",
       "10     -0.551183  0.407761 -0.130792 -0.603202   0.40776096527860384\n",
       "11     -0.566286  0.045572  1.280749  0.582487   0.04557220659216379\n",
       "12      0.557646 -0.218922  1.286246  1.496505  -0.21892234796985047\n",
       "13      0.331674 -0.877837  0.124965 -1.057933   -0.8778374467860897\n",
       "14     -0.242315  0.060830  1.824598  0.378893   0.06083005268731414\n",
       "15     -0.646573 -0.415450 -1.692971 -0.318178  -0.41545028892400365\n",
       "16     -0.514729 -1.442203 -1.296407 -1.581514   -1.4422029840208441\n",
       "17     -0.585768  0.514027 -1.397351 -0.003182    0.5140272092729243\n",
       "18      0.723272 -0.513468  0.541079 -0.137046   -0.5134684827641041\n",
       "19      2.637495 -0.846907  2.393073  0.955457   -0.8469068504596399\n",
       "20      0.166189 -1.185081  1.282045  1.654204    -1.185080718177372\n",
       "21     -0.297169  0.416546  0.397860 -2.182721    0.4165462367801613\n",
       "22     -0.020360  0.737743  1.965927 -0.338573    0.7377425910303744\n",
       "23      0.751784 -0.900164  0.281151 -0.442655   -0.9001636853183134\n",
       "24     -0.873261 -0.578318 -0.819339 -0.737263   -0.5783178141371931\n",
       "25      1.064900 -0.747839  0.133001  1.370450   -0.7478388853469311\n",
       "26      0.723467  0.142119  0.651336  0.798656   0.14211937616047218\n",
       "27     -2.028000 -0.311684  1.612560 -1.920692  -0.31168364971056306\n",
       "28      1.112880  0.626988 -0.010630 -0.910079    0.6269879010313179\n",
       "29     -0.858599 -0.567698 -1.337043  1.280145   -0.5676975025821687\n",
       "...          ...       ...       ...       ...                   ...\n",
       "999970 -1.457646  0.192926 -1.250098  1.511794   0.19292580356904052\n",
       "999971 -0.585404  0.724723  1.402451  0.874530     0.724722804401467\n",
       "999972  1.632520 -0.364826 -2.025486  1.050771   -0.3648260503009987\n",
       "999973 -1.679376 -0.936166 -0.528316  0.680004   -0.9361660440263306\n",
       "999974 -2.162210 -0.893318 -0.293688  1.215968    -0.893318074836994\n",
       "999975  0.495206 -2.603158 -0.526504  2.440141    -2.603158105805576\n",
       "999976 -0.712050  0.042788 -0.586106  0.501691   0.04278773545119708\n",
       "999977 -1.450769 -0.504873  1.492687 -1.000447   -0.5048725523318583\n",
       "999978  1.435701  0.588921  0.499484  1.068952    0.5889208293682462\n",
       "999979 -0.370500 -0.876371  0.095679  1.426775    -0.876370520979019\n",
       "999980 -1.860362 -0.188352  1.417636  0.112812  -0.18835163116942605\n",
       "999981  0.159776  0.643148 -1.144058  0.588882    0.6431479530013978\n",
       "999982 -0.771294  0.035328  0.056139  1.400189   0.03532781079998818\n",
       "999983  0.075331  0.757517  1.336875  1.215366    0.7575173146019598\n",
       "999984 -1.860898  1.121065 -0.722139 -0.347471    1.1210645853316952\n",
       "999985  0.105796 -0.840798  0.217460 -0.371466   -0.8407981155047471\n",
       "999986  2.238956  0.598431 -0.979607 -0.454246    0.5984307588647593\n",
       "999987 -0.031199 -0.981430  0.449795  0.797046   -0.9814303756805347\n",
       "999988 -0.333485 -0.596820 -0.658698  1.594328   -0.5968201886427429\n",
       "999989  2.006962 -0.567322 -0.772966 -1.559192   -0.5673221137737645\n",
       "999990 -0.687831  0.235996 -0.238004  0.552213   0.23599640206374659\n",
       "999991 -1.700605  1.960793 -0.314214  0.952570    1.9607928637004437\n",
       "999992 -0.700334  0.365314 -0.830024  0.064118    0.3653140369479466\n",
       "999993 -0.174309 -1.299461 -0.581559 -1.366201   -1.2994612736445736\n",
       "999994 -0.434830 -1.103999  0.171219  2.251852   -1.1039986293272555\n",
       "999995 -0.552355 -2.143354 -0.520109 -0.391523   -2.1433537364852224\n",
       "999996 -0.256147  1.058946  2.028805 -0.034571    1.0589457878193425\n",
       "999997  0.819508 -0.020453  1.370714  0.750098    -0.020452559113283\n",
       "999998 -0.863895 -0.553943  2.090309  0.916981   -0.5539428215983326\n",
       "999999  1.233610 -0.231400 -0.296199 -0.831259  -0.23140002363497464\n",
       "\n",
       "[1000000 rows x 5 columns]"
      ]
     },
     "execution_count": 4,
     "metadata": {},
     "output_type": "execute_result"
    }
   ],
   "source": [
    "q_scale.get_changed_df()"
   ]
  },
  {
   "cell_type": "markdown",
   "metadata": {},
   "source": [
    "## Example 3 - Render a DataFrame returned by Yahoo Finance by enabling automatic qgrids"
   ]
  },
  {
   "cell_type": "code",
   "execution_count": 5,
   "metadata": {},
   "outputs": [
    {
     "ename": "ModuleNotFoundError",
     "evalue": "No module named 'pandas_datareader'",
     "output_type": "error",
     "traceback": [
      "\u001b[0;31m---------------------------------------------------------------------------\u001b[0m",
      "\u001b[0;31mModuleNotFoundError\u001b[0m                       Traceback (most recent call last)",
      "\u001b[0;32m<ipython-input-5-ec04466a02e8>\u001b[0m in \u001b[0;36m<module>\u001b[0;34m()\u001b[0m\n\u001b[1;32m      5\u001b[0m \u001b[0;34m\u001b[0m\u001b[0m\n\u001b[1;32m      6\u001b[0m \u001b[0;31m# Get a pandas DataFrame containing the daily prices for the S&P 500 from 1/1/2014 - 1/1/2017\u001b[0m\u001b[0;34m\u001b[0m\u001b[0;34m\u001b[0m\u001b[0m\n\u001b[0;32m----> 7\u001b[0;31m \u001b[0;32mfrom\u001b[0m \u001b[0mpandas_datareader\u001b[0m\u001b[0;34m.\u001b[0m\u001b[0mdata\u001b[0m \u001b[0;32mimport\u001b[0m \u001b[0mDataReader\u001b[0m\u001b[0;34m\u001b[0m\u001b[0m\n\u001b[0m\u001b[1;32m      8\u001b[0m spy = DataReader(\n\u001b[1;32m      9\u001b[0m     \u001b[0;34m'SPY'\u001b[0m\u001b[0;34m,\u001b[0m\u001b[0;34m\u001b[0m\u001b[0m\n",
      "\u001b[0;31mModuleNotFoundError\u001b[0m: No module named 'pandas_datareader'"
     ]
    }
   ],
   "source": [
    "import pandas as pd\n",
    "import numpy as np\n",
    "import qgrid\n",
    "randn = np.random.randn\n",
    "\n",
    "# Get a pandas DataFrame containing the daily prices for the S&P 500 from 1/1/2014 - 1/1/2017\n",
    "from pandas_datareader.data import DataReader\n",
    "spy = DataReader(\n",
    "    'SPY',\n",
    "    'yahoo',\n",
    "    pd.Timestamp('2014-01-01'),  \n",
    "    pd.Timestamp('2017-01-01'),\n",
    ")\n",
    "# Tell qgrid to automatically render all DataFrames and Series as qgrids.\n",
    "qgrid.enable()\n",
    "\n",
    "# Render the DataFrame as a qgrid automatically\n",
    "spy"
   ]
  },
  {
   "cell_type": "code",
   "execution_count": null,
   "metadata": {},
   "outputs": [],
   "source": [
    "# Disable automatic display so we can display DataFrames in the normal way\n",
    "qgrid.disable()"
   ]
  },
  {
   "cell_type": "markdown",
   "metadata": {},
   "source": [
    "## Example 4 - Render a DataFrame with a multi-index\n",
    "\n",
    "Create a sample DataFrame using the `wb.download` function and render it without using qgrid"
   ]
  },
  {
   "cell_type": "code",
   "execution_count": null,
   "metadata": {},
   "outputs": [],
   "source": [
    "import qgrid\n",
    "import pandas as pd\n",
    "from pandas_datareader import wb\n",
    "df_countries = wb.download(indicator='NY.GDP.PCAP.KD', country=['all'], start=2005, end=2008)\n",
    "df_countries.columns = ['GDP per capita (constant 2005 US$)']\n",
    "qgrid.show_grid(df_countries)"
   ]
  },
  {
   "cell_type": "code",
   "execution_count": null,
   "metadata": {
    "scrolled": true
   },
   "outputs": [],
   "source": [
    "df_countries"
   ]
  },
  {
   "cell_type": "markdown",
   "metadata": {},
   "source": [
    "## Example 5 - Render a DataFrame with an interval column\n",
    "Create a sample DataFrame using the `wb.download` function and render it without using qgrid"
   ]
  },
  {
   "cell_type": "code",
   "execution_count": null,
   "metadata": {},
   "outputs": [],
   "source": [
    "import numpy as np\n",
    "import pandas as pd\n",
    "import qgrid\n",
    "\n",
    "td = np.cumsum(np.random.randint(1, 15*60, 1000))\n",
    "start = pd.Timestamp('2017-04-17')\n",
    "df_interval = pd.DataFrame(\n",
    "    [(start + pd.Timedelta(seconds=d)) for d in td],\n",
    "    columns=['time'])\n",
    "\n",
    "freq = '15Min'\n",
    "start = df_interval['time'].min().floor(freq)\n",
    "end = df_interval['time'].max().ceil(freq)\n",
    "bins = pd.date_range(start, end, freq=freq)\n",
    "\n",
    "df_interval['time_bin'] = pd.cut(df_interval['time'], bins)\n",
    "\n",
    "qgrid.QgridWidget(df=df_interval, show_toolbar=True)"
   ]
  },
  {
   "cell_type": "code",
   "execution_count": null,
   "metadata": {
    "scrolled": true
   },
   "outputs": [],
   "source": [
    "df_interval"
   ]
  },
  {
   "cell_type": "markdown",
   "metadata": {},
   "source": [
    "## Example 6 - Render a DataFrame with unnamed columns\n",
    "Create a sample DataFrame using the `wb.download` function and render it without using qgrid"
   ]
  },
  {
   "cell_type": "code",
   "execution_count": null,
   "metadata": {},
   "outputs": [],
   "source": [
    "import numpy as np\n",
    "import pandas as pd\n",
    "import qgrid\n",
    "\n",
    "arrays = [['bar', 'bar', 'baz', 'baz', 'foo', 'foo', 'qux', 'qux'],\n",
    "          ['one', 'two', 'one', 'two', 'one', 'two', 'one', 'two']]\n",
    "df_multi = pd.DataFrame(np.random.randn(8, 4), index=arrays)\n",
    "qgrid.show_grid(df_multi, show_toolbar=True)"
   ]
  },
  {
   "cell_type": "code",
   "execution_count": null,
   "metadata": {},
   "outputs": [],
   "source": [
    "df_multi"
   ]
  },
  {
   "cell_type": "markdown",
   "metadata": {},
   "source": [
    "## Example 7 - Render a narrow DataFrame inside a Layout widget\n",
    "Create a sample DataFrame with only two columns using `randint`, and render it in a Layout widget that's 20% of the width of the output area."
   ]
  },
  {
   "cell_type": "code",
   "execution_count": null,
   "metadata": {},
   "outputs": [],
   "source": [
    "import numpy as np\n",
    "import pandas as pd\n",
    "import qgrid\n",
    "import ipywidgets as ipyw\n",
    "randn = np.random.randn\n",
    "df_types = pd.DataFrame(np.random.randint(1,14,14))\n",
    "qgrid_widget = qgrid.QgridWidget(df=df_types, show_toolbar=False)\n",
    "qgrid_widget.layout = ipyw.Layout(width='20%')\n",
    "qgrid_widget"
   ]
  },
  {
   "cell_type": "markdown",
   "metadata": {},
   "source": [
    "## Example 8 - Render a DataFrame with an index and column that contain multiple types"
   ]
  },
  {
   "cell_type": "code",
   "execution_count": null,
   "metadata": {},
   "outputs": [],
   "source": [
    "import pandas as pd\n",
    "import qgrid\n",
    "df = pd.DataFrame({'A': [1.2, 'xy', 4], 'B': [3, 4, 5]})\n",
    "df = df.set_index(pd.Index(['yz', 7, 3.2]))\n",
    "view = qgrid.QgridWidget(df=df)\n",
    "view"
   ]
  },
  {
   "cell_type": "markdown",
   "metadata": {},
   "source": [
    "## Example 9 - Render a DataFrame with a Period index and Period column"
   ]
  },
  {
   "cell_type": "code",
   "execution_count": null,
   "metadata": {},
   "outputs": [],
   "source": [
    "import pandas as pd\n",
    "import qgrid\n",
    "range_index = pd.period_range(start='2000', periods=10, freq='B')\n",
    "df = pd.DataFrame({'a': 5, 'b': range_index}, index=range_index)\n",
    "view = qgrid.QgridWidget(df=df)\n",
    "view"
   ]
  },
  {
   "cell_type": "markdown",
   "metadata": {},
   "source": [
    "## Example 10 - Render a DataFrame with NaN and None"
   ]
  },
  {
   "cell_type": "code",
   "execution_count": null,
   "metadata": {},
   "outputs": [],
   "source": [
    "import pandas as pd\n",
    "import numpy as np\n",
    "import qgrid\n",
    "df = pd.DataFrame([(pd.Timestamp('2017-02-02'), None, 3.4), (np.nan, 2, 4.7), (pd.Timestamp('2017-02-03'), 3, None)])\n",
    "qgrid.show_grid(df)"
   ]
  }
 ],
 "metadata": {
  "kernelspec": {
   "display_name": "Python 3",
   "language": "python",
   "name": "python3"
  },
  "language_info": {
   "codemirror_mode": {
    "name": "ipython",
    "version": 3
   },
   "file_extension": ".py",
   "mimetype": "text/x-python",
   "name": "python",
   "nbconvert_exporter": "python",
   "pygments_lexer": "ipython3",
   "version": "3.6.5"
  },
  "widgets": {
   "application/vnd.jupyter.widget-state+json": {
    "state": {
     "1a834c4c69af4c48bed691594ce5e0ad": {
      "model_module": "@jupyter-widgets/base",
      "model_module_version": "1.0.0",
      "model_name": "LayoutModel",
      "state": {}
     },
     "3fb8c261d3e249248ea7703065634285": {
      "model_module": "@jupyter-widgets/base",
      "model_module_version": "1.0.0",
      "model_name": "LayoutModel",
      "state": {}
     },
     "7aa5e1ce49fc4d0f9366bea5c684c58d": {
      "model_module": "qgrid",
      "model_module_version": "1.0.0-alpha.6",
      "model_name": "QgridModel",
      "state": {
       "_columns": {
        "A": {
         "name": "A",
         "type": "number"
        },
        "B": {
         "name": "B",
         "type": "datetime"
        },
        "C": {
         "name": "C",
         "type": "number"
        },
        "D": {
         "name": "D",
         "type": "integer"
        },
        "E": {
         "constraints": {
          "enum": [
           "adams",
           "hamilton",
           "jefferson",
           "kennedy",
           "lincoln",
           "madison",
           "roosevelt",
           "washington"
          ]
         },
         "name": "E",
         "ordered": false,
         "type": "any"
        },
        "F": {
         "name": "F",
         "type": "string"
        },
        "G": {
         "name": "G",
         "type": "boolean"
        },
        "index": {
         "name": "index",
         "type": "integer"
        }
       },
       "_df_json": "{\"schema\": {\"fields\":[{\"name\":\"index\",\"type\":\"integer\"},{\"name\":\"A\",\"type\":\"number\"},{\"name\":\"B\",\"type\":\"datetime\"},{\"name\":\"C\",\"type\":\"number\"},{\"name\":\"D\",\"type\":\"integer\"},{\"name\":\"E\",\"type\":\"any\",\"constraints\":{\"enum\":[\"adams\",\"hamilton\",\"jefferson\",\"kennedy\",\"lincoln\",\"madison\",\"roosevelt\",\"washington\"]},\"ordered\":false},{\"name\":\"F\",\"type\":\"string\"},{\"name\":\"G\",\"type\":\"boolean\"}],\"primaryKey\":[\"index\"],\"pandas_version\":\"0.20.0\"}, \"data\": [{\"index\":0,\"A\":1.0,\"B\":\"2013-01-01T00:00:00.000Z\",\"C\":-0.09128,\"D\":3,\"E\":\"washington\",\"F\":\"foo\",\"G\":true},{\"index\":1,\"A\":1.0,\"B\":\"2013-01-02T00:00:00.000Z\",\"C\":-0.57373,\"D\":3,\"E\":\"adams\",\"F\":\"bar\",\"G\":false},{\"index\":2,\"A\":1.0,\"B\":\"2013-01-03T00:00:00.000Z\",\"C\":0.4723,\"D\":3,\"E\":\"washington\",\"F\":\"buzz\",\"G\":false},{\"index\":3,\"A\":1.0,\"B\":\"2013-01-04T00:00:00.000Z\",\"C\":-0.09316,\"D\":3,\"E\":\"madison\",\"F\":\"bippity\",\"G\":false},{\"index\":4,\"A\":1.0,\"B\":\"2013-01-05T00:00:00.000Z\",\"C\":-0.20181,\"D\":3,\"E\":\"lincoln\",\"F\":\"boppity\",\"G\":false},{\"index\":5,\"A\":1.0,\"B\":\"2013-01-06T00:00:00.000Z\",\"C\":1.7561,\"D\":3,\"E\":\"jefferson\",\"F\":\"foo\",\"G\":true},{\"index\":6,\"A\":1.0,\"B\":\"2013-01-07T00:00:00.000Z\",\"C\":1.20064,\"D\":3,\"E\":\"hamilton\",\"F\":\"foo\",\"G\":true},{\"index\":7,\"A\":1.0,\"B\":\"2013-01-08T00:00:00.000Z\",\"C\":0.98097,\"D\":3,\"E\":\"roosevelt\",\"F\":\"bar\",\"G\":false},{\"index\":8,\"A\":1.0,\"B\":\"2013-01-09T00:00:00.000Z\",\"C\":0.8321,\"D\":3,\"E\":\"kennedy\",\"F\":\"zoo\",\"G\":false}]}",
       "_df_range": [
        0,
        100
       ],
       "_interval_columns": [],
       "_model_module_version": "1.0.0-alpha.6",
       "_row_count": 9,
       "_sort_ascending": true,
       "_sort_field": "",
       "_view_module_version": "1.0.0-alpha.6",
       "grid_options": {
        "autoEdit": false,
        "defaultColumnWidth": 150,
        "editable": true,
        "enableColumnReorder": false,
        "enableTextSelectionOnCells": true,
        "explicitInitialization": true,
        "forceFitColumns": true,
        "fullWidthRows": true,
        "rowHeight": 28,
        "syncColumnCellResize": true
       },
       "layout": "IPY_MODEL_1a834c4c69af4c48bed691594ce5e0ad",
       "precision": 5,
       "show_toolbar": false
      }
     },
     "7ec042abef044645a9f8bd38a3f69faf": {
      "model_module": "qgrid",
      "model_module_version": "1.0.0-alpha.6",
      "model_name": "QgridModel",
      "state": {
       "_columns": {
        "A": {
         "name": "A",
         "type": "number"
        },
        "B": {
         "name": "B",
         "type": "datetime"
        },
        "C": {
         "name": "C",
         "type": "number"
        },
        "D": {
         "name": "D",
         "type": "integer"
        },
        "E": {
         "constraints": {
          "enum": [
           "adams",
           "hamilton",
           "jefferson",
           "kennedy",
           "lincoln",
           "madison",
           "roosevelt",
           "washington"
          ]
         },
         "name": "E",
         "ordered": false,
         "type": "any"
        },
        "F": {
         "name": "F",
         "type": "string"
        },
        "G": {
         "name": "G",
         "type": "boolean"
        },
        "index": {
         "name": "index",
         "type": "integer"
        }
       },
       "_df_json": "{\"schema\": {\"fields\":[{\"name\":\"index\",\"type\":\"integer\"},{\"name\":\"A\",\"type\":\"number\"},{\"name\":\"B\",\"type\":\"datetime\"},{\"name\":\"C\",\"type\":\"number\"},{\"name\":\"D\",\"type\":\"integer\"},{\"name\":\"E\",\"type\":\"any\",\"constraints\":{\"enum\":[\"adams\",\"hamilton\",\"jefferson\",\"kennedy\",\"lincoln\",\"madison\",\"roosevelt\",\"washington\"]},\"ordered\":false},{\"name\":\"F\",\"type\":\"string\"},{\"name\":\"G\",\"type\":\"boolean\"}],\"primaryKey\":[\"index\"],\"pandas_version\":\"0.20.0\"}, \"data\": [{\"index\":0,\"A\":1.0,\"B\":\"2013-01-01T00:00:00.000Z\",\"C\":0.13177,\"D\":3,\"E\":\"washington\",\"F\":\"foo\",\"G\":true},{\"index\":1,\"A\":1.0,\"B\":\"2013-01-02T00:00:00.000Z\",\"C\":-1.56846,\"D\":3,\"E\":\"adams\",\"F\":\"bar\",\"G\":false},{\"index\":2,\"A\":1.0,\"B\":\"2013-01-03T00:00:00.000Z\",\"C\":1.2584,\"D\":3,\"E\":\"washington\",\"F\":\"buzz\",\"G\":false},{\"index\":3,\"A\":1.0,\"B\":\"2013-01-04T00:00:00.000Z\",\"C\":-1.54316,\"D\":3,\"E\":\"madison\",\"F\":\"bippity\",\"G\":false},{\"index\":4,\"A\":1.0,\"B\":\"2013-01-05T00:00:00.000Z\",\"C\":0.01483,\"D\":3,\"E\":\"lincoln\",\"F\":\"boppity\",\"G\":false},{\"index\":5,\"A\":1.0,\"B\":\"2013-01-06T00:00:00.000Z\",\"C\":-0.26442,\"D\":3,\"E\":\"jefferson\",\"F\":\"foo\",\"G\":true},{\"index\":6,\"A\":1.0,\"B\":\"2013-01-07T00:00:00.000Z\",\"C\":-1.85692,\"D\":3,\"E\":\"hamilton\",\"F\":\"foo\",\"G\":true},{\"index\":7,\"A\":1.0,\"B\":\"2013-01-08T00:00:00.000Z\",\"C\":1.38498,\"D\":3,\"E\":\"roosevelt\",\"F\":\"bar\",\"G\":false},{\"index\":8,\"A\":1.0,\"B\":\"2013-01-09T00:00:00.000Z\",\"C\":0.40905,\"D\":3,\"E\":\"kennedy\",\"F\":\"zoo\",\"G\":false}]}",
       "_df_range": [
        0,
        100
       ],
       "_interval_columns": [],
       "_model_module_version": "1.0.0-alpha.6",
       "_row_count": 9,
       "_sort_ascending": true,
       "_sort_field": "",
       "_view_module_version": "1.0.0-alpha.6",
       "grid_options": {
        "autoEdit": false,
        "defaultColumnWidth": 150,
        "editable": true,
        "enableColumnReorder": false,
        "enableTextSelectionOnCells": true,
        "explicitInitialization": true,
        "forceFitColumns": true,
        "fullWidthRows": true,
        "rowHeight": 28,
        "syncColumnCellResize": true
       },
       "layout": "IPY_MODEL_8eb3cf5ce7da431db4a3e4e9d3d64511",
       "precision": 5,
       "show_toolbar": false
      }
     },
     "8eb3cf5ce7da431db4a3e4e9d3d64511": {
      "model_module": "@jupyter-widgets/base",
      "model_module_version": "1.0.0",
      "model_name": "LayoutModel",
      "state": {}
     },
     "fa118ab9f1c840cd83509f56d50ee163": {
      "model_module": "qgrid",
      "model_module_version": "1.0.0-alpha.6",
      "model_name": "QgridModel",
      "state": {
       "_columns": {
        "A": {
         "name": "A",
         "type": "number"
        },
        "B": {
         "name": "B",
         "type": "datetime"
        },
        "C": {
         "name": "C",
         "type": "number"
        },
        "D": {
         "name": "D",
         "type": "integer"
        },
        "E": {
         "constraints": {
          "enum": [
           "adams",
           "hamilton",
           "jefferson",
           "kennedy",
           "lincoln",
           "madison",
           "roosevelt",
           "washington"
          ]
         },
         "name": "E",
         "ordered": false,
         "type": "any"
        },
        "F": {
         "name": "F",
         "type": "string"
        },
        "G": {
         "name": "G",
         "type": "boolean"
        },
        "index": {
         "name": "index",
         "type": "integer"
        }
       },
       "_df_json": "{\"schema\": {\"fields\":[{\"name\":\"index\",\"type\":\"integer\"},{\"name\":\"A\",\"type\":\"number\"},{\"name\":\"B\",\"type\":\"datetime\"},{\"name\":\"C\",\"type\":\"number\"},{\"name\":\"D\",\"type\":\"integer\"},{\"name\":\"E\",\"type\":\"any\",\"constraints\":{\"enum\":[\"adams\",\"hamilton\",\"jefferson\",\"kennedy\",\"lincoln\",\"madison\",\"roosevelt\",\"washington\"]},\"ordered\":false},{\"name\":\"F\",\"type\":\"string\"},{\"name\":\"G\",\"type\":\"boolean\"}],\"primaryKey\":[\"index\"],\"pandas_version\":\"0.20.0\"}, \"data\": [{\"index\":0,\"A\":1.0,\"B\":\"2013-01-01T00:00:00.000Z\",\"C\":-0.67408,\"D\":3,\"E\":\"washington\",\"F\":\"foo\",\"G\":true},{\"index\":1,\"A\":1.0,\"B\":\"2013-01-02T00:00:00.000Z\",\"C\":-0.87122,\"D\":3,\"E\":\"adams\",\"F\":\"bar\",\"G\":false},{\"index\":2,\"A\":1.0,\"B\":\"2013-01-03T00:00:00.000Z\",\"C\":0.58722,\"D\":3,\"E\":\"washington\",\"F\":\"buzz\",\"G\":false},{\"index\":3,\"A\":1.0,\"B\":\"2013-01-04T00:00:00.000Z\",\"C\":0.14947,\"D\":3,\"E\":\"madison\",\"F\":\"bippity\",\"G\":false},{\"index\":4,\"A\":1.0,\"B\":\"2013-01-05T00:00:00.000Z\",\"C\":0.89719,\"D\":3,\"E\":\"lincoln\",\"F\":\"boppity\",\"G\":false},{\"index\":5,\"A\":1.0,\"B\":\"2013-01-06T00:00:00.000Z\",\"C\":0.41141,\"D\":3,\"E\":\"jefferson\",\"F\":\"foo\",\"G\":true},{\"index\":6,\"A\":1.0,\"B\":\"2013-01-07T00:00:00.000Z\",\"C\":0.66837,\"D\":3,\"E\":\"hamilton\",\"F\":\"foo\",\"G\":true},{\"index\":7,\"A\":1.0,\"B\":\"2013-01-08T00:00:00.000Z\",\"C\":0.42815,\"D\":3,\"E\":\"roosevelt\",\"F\":\"bar\",\"G\":false},{\"index\":8,\"A\":1.0,\"B\":\"2013-01-09T00:00:00.000Z\",\"C\":-0.49399,\"D\":3,\"E\":\"kennedy\",\"F\":\"zoo\",\"G\":false}]}",
       "_df_range": [
        0,
        100
       ],
       "_interval_columns": [],
       "_model_module_version": "1.0.0-alpha.6",
       "_row_count": 9,
       "_sort_ascending": true,
       "_sort_field": "",
       "_view_module_version": "1.0.0-alpha.6",
       "grid_options": {
        "autoEdit": false,
        "defaultColumnWidth": 150,
        "editable": true,
        "enableColumnReorder": false,
        "enableTextSelectionOnCells": true,
        "explicitInitialization": true,
        "forceFitColumns": true,
        "fullWidthRows": true,
        "rowHeight": 28,
        "syncColumnCellResize": true
       },
       "layout": "IPY_MODEL_3fb8c261d3e249248ea7703065634285",
       "precision": 5,
       "show_toolbar": false
      }
     }
    },
    "version_major": 2,
    "version_minor": 0
   }
  }
 },
 "nbformat": 4,
 "nbformat_minor": 2
}
